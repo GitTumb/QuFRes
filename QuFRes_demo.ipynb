{
 "cells": [
  {
   "cell_type": "markdown",
   "metadata": {},
   "source": [
    "# **Quantum Frequency Resampling (QuFRes) - Demo Notebook**\n",
    "\n",
    "This notebook demonstrates how to use QuFRes to perform quantum-based frequency resampling on a sample signal. We will go through the following steps:\n",
    "\n",
    "1. Defining the signal\n",
    "\n",
    "2. Choosing the resampling task and setting parameters\n",
    "\n",
    "3. Initializing the simulation\n",
    "\n",
    "4. Running the simulation\n",
    "\n",
    "5. Examining the logbook\n",
    "\n",
    "6. Recovering the output\n",
    "\n",
    "In the next cell, we simple import the necessary tools and define some useful parameters for plotting results later on."
   ]
  },
  {
   "cell_type": "code",
   "execution_count": 1,
   "metadata": {},
   "outputs": [],
   "source": [
    "import numpy as np #array-handling\n",
    "import matplotlib.pyplot as plt #plotting inputs and results\n",
    "from resample_sim import * # simulation class\n",
    "\n",
    "\n",
    "plt.rcParams['text.usetex'] = True #optional: Tex handling in plots\n",
    "plt.rcParams.update({'font.size': 18})\n"
   ]
  },
  {
   "cell_type": "markdown",
   "metadata": {},
   "source": [
    "## **The signal**\n",
    "To begin, we define a sample signal that we wish to process. In pratical applications, the input could be any structured data, ranging from a time-series (e.g., audio waveform, sensor data, stock market trends), a digital image, a voltage train or even experimental data points.\n",
    "\n",
    "**In this demo, we generete a syntethic one-dimensional signal for simplicity**. The signal is then visualized to provide an intuitive understanding of its structure before applying quantum resampling.\n",
    "\n",
    "Notice that, currently, the code allows only for hypercubic (i.e. square) arrays."
   ]
  },
  {
   "cell_type": "code",
   "execution_count": 2,
   "metadata": {},
   "outputs": [],
   "source": [
    "t = np.linspace(0,2,512)\n",
    "c = 8   #bit-depth\n",
    "L = 2**c    \n",
    "signal = np.sinc(5*(t-1))+1   #unit-shifted sinc\n",
    "signal = np.round(signal/signal.max()*L)    #quantization of sample values"
   ]
  },
  {
   "cell_type": "markdown",
   "metadata": {},
   "source": [
    "Specifically, we opt for a truncated sinc function, rescaled (by 5) and unit-shifted both in the x (+1) and y(-1) axes. \n",
    "\n",
    "The signal is sampled (e.g. in time) in the [0,2]s interval at a 256 Hz rate. Optionally, we can decide to quantize input samples (the range and depth of the quantization is controlled here through `c`, the bit-depth).\n"
   ]
  },
  {
   "cell_type": "code",
   "execution_count": 3,
   "metadata": {},
   "outputs": [
    {
     "data": {
      "text/plain": [
       "[]"
      ]
     },
     "execution_count": 3,
     "metadata": {},
     "output_type": "execute_result"
    },
    {
     "data": {
      "image/png": "[encoded data removed]",
      "text/plain": [
       "<Figure size 700x500 with 1 Axes>"
      ]
     },
     "metadata": {},
     "output_type": "display_data"
    }
   ],
   "source": [
    "fig, ax = plt.subplots(figsize=(7, 5))\n",
    "\n",
    "# Linea continua della sinc\n",
    "ax.plot(t, signal, lw=0,marker='o',markersize=2)\n",
    "\n",
    "# Linee verticali per i punti campionati\n",
    "ax.vlines(t, signal.min(), signal, linewidth=0.3,alpha=0.9)\n",
    "\n",
    "# Personalizzazioni del grafico principale\n",
    "ax.set_xlabel(r'$time\\,(s)$')\n",
    "ax.set_ylabel(r'$Intensity$')\n",
    "ax.set_ylim(100,260)\n",
    "ax.set_xlim(-.0,2.0)\n",
    "\n",
    "plt.plot()"
   ]
  },
  {
   "cell_type": "markdown",
   "metadata": {},
   "source": [
    "The number of qubits required to encode such a signal can be promptly computed by invoking the `get_numQubits` from the `encoding` module\n"
   ]
  },
  {
   "cell_type": "code",
   "execution_count": 4,
   "metadata": {},
   "outputs": [
    {
     "name": "stdout",
     "output_type": "stream",
     "text": [
      "We need an 9-qubits register to encode the input signal\n"
     ]
    }
   ],
   "source": [
    "from encoding import get_numQubits\n",
    "\n",
    "input_size = get_numQubits(signal)\n",
    "print(f'We need an {input_size}-qubits register to encode the input signal')"
   ]
  },
  {
   "cell_type": "markdown",
   "metadata": {},
   "source": [
    "## **Instantating the simulation**"
   ]
  },
  {
   "cell_type": "markdown",
   "metadata": {},
   "source": [
    "We now move on to initialize a fresh simulation of our quantum resampling algorithms, as implemented by the `Resample_Sim` class.\n",
    "Class instances must be built by providing the input signal, the task to perform, and a set of parameters specific to the chosen algorithm. Eventually,\n",
    "the simulation module allows to decide whether or not to subdivide the input into non-overlapping patches for parallel processing (in this case, the patch shape must be provided).\n",
    "\n",
    "The resampling task determines the quantum algorithm we want to apply to our signal.\n",
    "The currently implemented tasks are:\n",
    "1. Downsampling (reduces the sampling rate by discarding qubits)\n",
    "    - 1D -> ` \"downsample_1D\"`\n",
    "    - 2D-> ` \"downsample_2D\"`\n",
    "    - MD-> ` \"downsample_MD\"`\n",
    "2. Upsampling (MD) (increases the sampling rate by appending new qubits) -> ` \"upsample\"`\n",
    "\n",
    "Each routine has a specific set of parameters that must be passed to the class constructor as a tuple. 1D and 2D Downsampling require the number of qubits to be discarded (per axis) and (optionally) whether or not to add Hadamard gates at the beginning and end of the respective circuits. Conversely, MD Downsampling (Upsampling) requires also the dimensionality, i.e. the number of axes, of the signal, to be appended before the number of qubits to be discarded (added).\n",
    "\n",
    "\n",
    "For this demo, we will consider downsampling from  9 (512) to 8 qubits (256 samples). "
   ]
  },
  {
   "cell_type": "code",
   "execution_count": 5,
   "metadata": {},
   "outputs": [],
   "source": [
    "task = 'downsample_1D'\n",
    "\n",
    "num_dis = 1\n",
    "useHadamards = True\n",
    "params = (num_dis,useHadamards)\n"
   ]
  },
  {
   "cell_type": "markdown",
   "metadata": {},
   "source": [
    "With the signal and resampling parameters defined, we can properly initialize the QuFRes simulation."
   ]
  },
  {
   "cell_type": "code",
   "execution_count": 6,
   "metadata": {},
   "outputs": [],
   "source": [
    "simulation = Resampling_Sim(signal,task,params,patch_shape=None)"
   ]
  },
  {
   "cell_type": "markdown",
   "metadata": {},
   "source": [
    "We can access the encoded signal, its norm, and the review the task at hand through specific class attributes. For instance:"
   ]
  },
  {
   "cell_type": "code",
   "execution_count": 7,
   "metadata": {},
   "outputs": [
    {
     "data": {
      "text/plain": [
       "72350.0"
      ]
     },
     "execution_count": 7,
     "metadata": {},
     "output_type": "execute_result"
    }
   ],
   "source": [
    "simulation.norms"
   ]
  },
  {
   "cell_type": "markdown",
   "metadata": {},
   "source": [
    "returns the norm of the input signal, which will be used down the line for output retrieval"
   ]
  },
  {
   "cell_type": "markdown",
   "metadata": {},
   "source": [
    "## **Running the simulation**"
   ]
  },
  {
   "cell_type": "markdown",
   "metadata": {},
   "source": [
    "We are now free to run the resampling simulation. Since output retrieval requires multiple repetitions (shots) of the algorithm, we can specifiy, for each run, the amount of iterations to perform"
   ]
  },
  {
   "cell_type": "code",
   "execution_count": 8,
   "metadata": {},
   "outputs": [
    {
     "name": "stdout",
     "output_type": "stream",
     "text": [
      "Simulation completed.\n"
     ]
    },
    {
     "data": {
      "text/plain": [
       "True"
      ]
     },
     "execution_count": 8,
     "metadata": {},
     "output_type": "execute_result"
    }
   ],
   "source": [
    "shots = 1000\n",
    "\n",
    "simulation.run(shots)"
   ]
  },
  {
   "cell_type": "markdown",
   "metadata": {},
   "source": [
    "As we can see, the required shots have been successfully collected. The preliminary results of each run are collected in a logbook, which collects info on the task at hand, whether or not the signal is patched, the occurence frequency computed from the available statistics, and the overall number of shots performed.\n"
   ]
  },
  {
   "cell_type": "code",
   "execution_count": 9,
   "metadata": {},
   "outputs": [
    {
     "data": {
      "text/plain": [
       "dict_keys(['task', 'patches', 'frequencies', 'shots'])"
      ]
     },
     "execution_count": 9,
     "metadata": {},
     "output_type": "execute_result"
    }
   ],
   "source": [
    "simulation.logbook.keys()"
   ]
  },
  {
   "cell_type": "markdown",
   "metadata": {},
   "source": [
    "The logbook simplifies result tracking and enables adjustments for future experiments. In particular, the same simulation can be re-run multiple times to gather additional statistical data. New measurement results are added to existing ones, up to a proper normalization. This iterative approach allows users to fine-tune output retrieval, actively monitoring noise levels and determining whether further measurements are necessary for improved accuracy.\n",
    "For example, a quick plot shows the above number of shots was not sufficient for a full output reconstruction"
   ]
  },
  {
   "cell_type": "code",
   "execution_count": 10,
   "metadata": {},
   "outputs": [
    {
     "name": "stdout",
     "output_type": "stream",
     "text": [
      "Signal successfully reconstructed!\n"
     ]
    },
    {
     "data": {
      "text/plain": [
       "[]"
      ]
     },
     "execution_count": 10,
     "metadata": {},
     "output_type": "execute_result"
    },
    {
     "data": {
      "image/png": "[encoded data removed]",
      "text/plain": [
       "<Figure size 700x500 with 1 Axes>"
      ]
     },
     "metadata": {},
     "output_type": "display_data"
    }
   ],
   "source": [
    "simulation.reconstruct()\n",
    "\n",
    "partial_output = simulation.output\n",
    "\n",
    "downsampled_t = np.linspace(0,2,256)\n",
    "\n",
    "p_fig, p_ax = plt.subplots(figsize=(7, 5))\n",
    "\n",
    "p_ax.plot(downsampled_t, partial_output, lw=0,marker='o',markersize=2)\n",
    "\n",
    "p_ax.vlines(downsampled_t, partial_output.min(), partial_output, linewidth=0.3,alpha=0.9)\n",
    "\n",
    "p_ax.set_xlabel(r'$time\\,(s)$')\n",
    "p_ax.set_ylabel(r'$Intensity$')\n",
    "p_ax.set_xlim(-.0,2.0)\n",
    "\n",
    "plt.plot()"
   ]
  },
  {
   "cell_type": "markdown",
   "metadata": {},
   "source": [
    "We thus collect more shots, and finally reconstruct the correct output"
   ]
  },
  {
   "cell_type": "code",
   "execution_count": 11,
   "metadata": {},
   "outputs": [
    {
     "name": "stdout",
     "output_type": "stream",
     "text": [
      "Simulation completed.\n",
      "total executions: 1001000\n"
     ]
    }
   ],
   "source": [
    "simulation.run(shots**2)\n",
    "\n",
    "print('total executions:',simulation.logbook['shots'])"
   ]
  },
  {
   "cell_type": "code",
   "execution_count": 12,
   "metadata": {},
   "outputs": [
    {
     "name": "stdout",
     "output_type": "stream",
     "text": [
      "Signal successfully reconstructed!\n"
     ]
    },
    {
     "data": {
      "text/plain": [
       "True"
      ]
     },
     "execution_count": 12,
     "metadata": {},
     "output_type": "execute_result"
    }
   ],
   "source": [
    "simulation.reconstruct()"
   ]
  },
  {
   "cell_type": "code",
   "execution_count": 13,
   "metadata": {},
   "outputs": [
    {
     "data": {
      "text/plain": [
       "[]"
      ]
     },
     "execution_count": 13,
     "metadata": {},
     "output_type": "execute_result"
    },
    {
     "data": {
      "image/png": "[encoded data removed]",
      "text/plain": [
       "<Figure size 700x500 with 1 Axes>"
      ]
     },
     "metadata": {},
     "output_type": "display_data"
    }
   ],
   "source": [
    "output = simulation.output\n",
    "\n",
    "out_fig, out_ax = plt.subplots(figsize=(7, 5))\n",
    "\n",
    "# Linea continua della sinc\n",
    "out_ax.plot(downsampled_t, output, lw=0,marker='o',markersize=2)\n",
    "\n",
    "# Linee verticali per i punti campionati\n",
    "out_ax.vlines(downsampled_t, output.min(), output, linewidth=0.3,alpha=0.9)\n",
    "\n",
    "# Personalizzazioni del grafico principale\n",
    "out_ax.set_xlabel(r'$time\\,(s)$')\n",
    "out_ax.set_ylabel(r'$Intensity$')\n",
    "#out_ax.set_ylim(100,260)\n",
    "out_ax.set_xlim(-.0,2.0)\n",
    "\n",
    "plt.plot()"
   ]
  },
  {
   "cell_type": "markdown",
   "metadata": {},
   "source": [
    "## **Optional: Patching the signal**"
   ]
  },
  {
   "cell_type": "markdown",
   "metadata": {},
   "source": [
    "As a final, optional, consideration, we show the possibility of patching our input signal. \n",
    "\n",
    "All simulation parameters are the same as above, although we further provide the shape of the desired patches. Notice that this shape, and thus the number, of the patches depends on the signal at hand: since the same amount of qubits will be discarded from each patch, one must account for more intense aliasing than the patch-less approach. \n",
    "\n",
    "In this demo, we split the signal into two patches, each with 256 samples."
   ]
  },
  {
   "cell_type": "code",
   "execution_count": 14,
   "metadata": {},
   "outputs": [
    {
     "name": "stdout",
     "output_type": "stream",
     "text": [
      "(2, 256)\n"
     ]
    }
   ],
   "source": [
    "patch_shape = (256,)\n",
    "\n",
    "patched_simulation = Resampling_Sim(signal,task=task,params=params,patch_shape=patch_shape)\n"
   ]
  },
  {
   "cell_type": "markdown",
   "metadata": {},
   "source": [
    "In patched-based mode, states and norms corresponding to each past are collected into an array, and passed in parallel to the simulator:"
   ]
  },
  {
   "cell_type": "code",
   "execution_count": 15,
   "metadata": {},
   "outputs": [
    {
     "data": {
      "text/plain": [
       "array([36175., 36175.])"
      ]
     },
     "execution_count": 15,
     "metadata": {},
     "output_type": "execute_result"
    }
   ],
   "source": [
    "patched_simulation.norms"
   ]
  },
  {
   "cell_type": "code",
   "execution_count": 16,
   "metadata": {},
   "outputs": [
    {
     "name": "stdout",
     "output_type": "stream",
     "text": [
      "Simulation completed.\n",
      "Signal successfully reconstructed!\n"
     ]
    },
    {
     "data": {
      "text/plain": [
       "True"
      ]
     },
     "execution_count": 16,
     "metadata": {},
     "output_type": "execute_result"
    }
   ],
   "source": [
    "patched_simulation.run(100000)\n",
    "patched_simulation.reconstruct()"
   ]
  },
  {
   "cell_type": "markdown",
   "metadata": {},
   "source": [
    "The conversion from patches to full output is carried out automatically by the `reconstruct()` method. \n",
    "We show here the downsampled signal after 100,000 iterations (per patch)"
   ]
  },
  {
   "cell_type": "code",
   "execution_count": 18,
   "metadata": {},
   "outputs": [
    {
     "data": {
      "image/png": "[encoded data removed]",
      "text/plain": [
       "<Figure size 700x500 with 1 Axes>"
      ]
     },
     "metadata": {},
     "output_type": "display_data"
    }
   ],
   "source": [
    "patched_output = patched_simulation.output\n",
    "\n",
    "\n",
    "\n",
    "new_fig, new_ax = plt.subplots(figsize=(7, 5))\n",
    "\n",
    "# Linea continua della sinc\n",
    "new_ax.plot(downsampled_t, patched_output, lw=0,marker='o',markersize=2)\n",
    "\n",
    "# Linee verticali per i punti campionati\n",
    "new_ax.vlines(downsampled_t, patched_output.min(), patched_output, linewidth=0.3,alpha=0.9)\n",
    "\n",
    "# Personalizzazioni del grafico principale\n",
    "new_ax.set_xlabel(r'$time\\,(s)$')\n",
    "new_ax.set_ylabel(r'$Intensity$')\n",
    "#out_ax.set_ylim(100,260)\n",
    "new_ax.set_xlim(-.0,2.0)\n",
    "\n",
    "plt.show()"
   ]
  },
  {
   "cell_type": "markdown",
   "metadata": {},
   "source": [
    "## This concludes our demo!\n",
    "\n",
    "Feel free to contact us for further info on our algorithms, and to use them for your signal-processign tasks. \n"
   ]
  }
 ],
 "metadata": {
  "kernelspec": {
   "display_name": ".venv",
   "language": "python",
   "name": "python3"
  },
  "language_info": {
   "codemirror_mode": {
    "name": "ipython",
    "version": 3
   },
   "file_extension": ".py",
   "mimetype": "text/x-python",
   "name": "python",
   "nbconvert_exporter": "python",
   "pygments_lexer": "ipython3",
   "version": "3.11.5"
  }
 },
 "nbformat": 4,
 "nbformat_minor": 2
}
